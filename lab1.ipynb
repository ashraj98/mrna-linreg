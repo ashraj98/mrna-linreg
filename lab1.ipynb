{
 "cells": [
  {
   "cell_type": "markdown",
   "source": [
    "**Import Libraries**"
   ],
   "metadata": {
    "collapsed": false
   }
  },
  {
   "cell_type": "code",
   "execution_count": 1,
   "metadata": {
    "collapsed": true,
    "pycharm": {
     "is_executing": false
    }
   },
   "outputs": [],
   "source": [
    "import matplotlib.pyplot as plt\n",
    "import pandas as pd\n",
    "import numpy as np\n",
    "from sklearn import model_selection, linear_model, metrics"
   ]
  },
  {
   "cell_type": "markdown",
   "source": [
    "# Part 1: Linear Regression"
   ],
   "metadata": {
    "collapsed": false,
    "pycharm": {
     "name": "#%% md\n"
    }
   }
  },
  {
   "cell_type": "markdown",
   "source": [
    "### Read data"
   ],
   "metadata": {
    "collapsed": false,
    "pycharm": {
     "name": "#%% md\n"
    }
   }
  },
  {
   "cell_type": "code",
   "execution_count": 55,
   "outputs": [],
   "source": [
    "mir_scores = pd.read_csv('https://raw.githubusercontent.com/efosler/cse5522data/master/miRScore-x.csv', index_col=0)\n",
    "mrna_poor = pd.read_csv('https://raw.githubusercontent.com/efosler/cse5522data/master/mRNA-y-poor-explained.csv', index_col=0)\n",
    "mrna_well = pd.read_csv('https://raw.githubusercontent.com/efosler/cse5522data/master/mRNA-y-well-explained.csv', index_col=0)\n",
    "cancer_type = pd.read_csv('https://github.com/efosler/cse5522data/raw/master/cancerType-x-Categorical.csv')"
   ],
   "metadata": {
    "collapsed": false,
    "pycharm": {
     "name": "#%%\n",
     "is_executing": false
    }
   }
  },
  {
   "cell_type": "markdown",
   "source": [
    "### Run 55 Linear Regressions\n",
    "\n",
    "###### Store R^2 and RMSE values for each experiment (10 total)"
   ],
   "metadata": {
    "collapsed": false,
    "pycharm": {
     "name": "#%% md\n"
    }
   }
  },
  {
   "cell_type": "code",
   "source": [
    "X = mir_scores.to_numpy()\n",
    "yPoor = mrna_poor.to_numpy().T\n",
    "yWell = mrna_well.to_numpy().T\n",
    "\n",
    "poor_r2s = []\n",
    "poor_rmses = []\n",
    "well_r2s = []\n",
    "well_rmses = []\n",
    "\n",
    "for i in range(10):\n",
    "    X_train, X_test, yPoor_train, yPoor_test, yWell_train, yWell_test = model_selection.train_test_split(X, yPoor, yWell, train_size=.8)\n",
    "    \n",
    "    poor_fit = linear_model.LinearRegression().fit(X_train, yPoor_train)\n",
    "    well_fit = linear_model.LinearRegression().fit(X_train, yWell_train)\n",
    "    poor_predictions = poor_fit.predict(X_test)\n",
    "    well_predictions = well_fit.predict(X_test)\n",
    "    poor_r2 = metrics.r2_score(yPoor_test, poor_predictions)\n",
    "    well_r2 = metrics.r2_score(yWell_test, well_predictions)\n",
    "    poor_rmse = np.sqrt(metrics.mean_squared_error(yPoor_test, poor_predictions))\n",
    "    well_rmse = np.sqrt(metrics.mean_squared_error(yWell_test, well_predictions))\n",
    "    poor_r2s.append(poor_r2)\n",
    "    poor_rmses.append(poor_rmse)\n",
    "    well_r2s.append(well_r2)\n",
    "    well_rmses.append(well_rmse)"
   ],
   "metadata": {
    "collapsed": false,
    "pycharm": {
     "name": "#%%\n",
     "is_executing": false
    }
   },
   "execution_count": 56,
   "outputs": []
  },
  {
   "cell_type": "markdown",
   "source": [
    "### Distribution for poorly explained mRNA expressions"
   ],
   "metadata": {
    "collapsed": false
   }
  },
  {
   "cell_type": "code",
   "execution_count": 57,
   "outputs": [
    {
     "name": "stdout",
     "text": [
      "r^2 Distribution (0.04344588668220558, 0.0059205870226404465)\nRMSE Distribution (0.4707236400885608, 0.0075222974034953)\n"
     ],
     "output_type": "stream"
    }
   ],
   "source": [
    "poor_r2_mean = np.mean(poor_r2s)\n",
    "poor_r2_std = np.std(poor_r2s)\n",
    "poor_rmse_mean = np.mean(poor_rmses)\n",
    "poor_rmse_std = np.std(poor_rmses)\n",
    "print(f\"r^2 Distribution {poor_r2_mean, poor_r2_std}\")\n",
    "print(f\"RMSE Distribution {poor_rmse_mean, poor_rmse_std}\")"
   ],
   "metadata": {
    "collapsed": false,
    "pycharm": {
     "name": "#%%\n",
     "is_executing": false
    }
   }
  },
  {
   "cell_type": "markdown",
   "source": [
    "### Distribution for well explained mRNA expressions"
   ],
   "metadata": {
    "collapsed": false,
    "pycharm": {
     "name": "#%% md\n"
    }
   }
  },
  {
   "cell_type": "code",
   "execution_count": 58,
   "outputs": [
    {
     "name": "stdout",
     "text": [
      "r^2 Distribution (0.46737566732705804, 0.004685146849950733)\nRMSE Distribution (1.0083555243827962, 0.008190312465612911)\n"
     ],
     "output_type": "stream"
    }
   ],
   "source": [
    "well_r2_mean = np.mean(well_r2s)\n",
    "well_r2_std = np.std(well_r2s)\n",
    "well_rmse_mean = np.mean(well_rmses)\n",
    "well_rmse_std = np.std(well_rmses)\n",
    "print(f\"r^2 Distribution {well_r2_mean, well_r2_std}\")\n",
    "print(f\"RMSE Distribution {well_rmse_mean, well_rmse_std}\")"
   ],
   "metadata": {
    "collapsed": false,
    "pycharm": {
     "name": "#%%\n",
     "is_executing": false
    }
   }
  },
  {
   "cell_type": "markdown",
   "source": [
    "### Histograms"
   ],
   "metadata": {
    "collapsed": false,
    "pycharm": {
     "name": "#%% md\n"
    }
   }
  },
  {
   "cell_type": "code",
   "execution_count": 59,
   "outputs": [
    {
     "data": {
      "text/plain": "(array([2., 0., 1., 1., 2., 1., 1., 0., 1., 1.]),\n array([0.46038635, 0.46194092, 0.46349549, 0.46505006, 0.46660463,\n        0.4681592 , 0.46971377, 0.47126834, 0.47282291, 0.47437748,\n        0.47593205]),\n <a list of 10 Patch objects>)"
     },
     "metadata": {},
     "output_type": "execute_result",
     "execution_count": 59
    },
    {
     "data": {
      "text/plain": "<Figure size 432x288 with 2 Axes>",
      "image/png": "[encoded data removed]"
     },
     "metadata": {
      "needs_background": "light"
     },
     "output_type": "display_data"
    }
   ],
   "source": [
    "fig = plt.figure()\n",
    "ax1 = fig.add_subplot(111)\n",
    "ax2 = fig.add_subplot(121)\n",
    "ax1.hist(poor_r2s)\n",
    "ax2.hist(well_r2s)"
   ],
   "metadata": {
    "collapsed": false,
    "pycharm": {
     "name": "#%%\n",
     "is_executing": false
    }
   }
  },
  {
   "cell_type": "markdown",
   "source": [
    "### Differences between well and poorly expressed gene sets\n",
    "\n",
    "The poorly expressed gene sets only has an average coefficient of determination of .048, which indicates\n",
    "little to no correlation between the micro RNA levels and the gene expressions. However, for the well\n",
    "expressed gene sets, the average coefficient of determination is much higher, at .472, which indicates\n",
    "some form of linear relationship between the micro RNA levels and the gene expressions."
   ],
   "metadata": {
    "collapsed": false,
    "pycharm": {
     "name": "#%% md\n"
    }
   }
  },
  {
   "cell_type": "markdown",
   "source": [
    "### Add tissue type to samples (categorical)"
   ],
   "metadata": {
    "collapsed": false,
    "pycharm": {
     "name": "#%% md\n"
    }
   }
  },
  {
   "cell_type": "code",
   "execution_count": 60,
   "outputs": [],
   "source": [
    "all_types = np.array(cancer_type['cancerType'])\n",
    "unique_types = np.unique(all_types)[:-1]\n",
    "\n",
    "X_wc = np.zeros((X.shape[0], X.shape[1] + unique_types.shape[0]))\n",
    "\n",
    "for idx, this_type in enumerate(cancer_type.to_numpy()):\n",
    "    categorical_columns = unique_types == this_type[1]\n",
    "    X_wc[idx] = np.append(X[idx], categorical_columns.astype(int))"
   ],
   "metadata": {
    "collapsed": false,
    "pycharm": {
     "name": "#%%\n",
     "is_executing": false
    }
   }
  },
  {
   "cell_type": "markdown",
   "source": [
    "### Rerun regressions with categorical data"
   ],
   "metadata": {
    "collapsed": false
   }
  },
  {
   "cell_type": "code",
   "execution_count": 61,
   "outputs": [],
   "source": [
    "poor_r2s = []\n",
    "poor_rmses = []\n",
    "well_r2s = []\n",
    "well_rmses = []\n",
    "\n",
    "for i in range(10):\n",
    "    X_train, X_test, yPoor_train, yPoor_test, yWell_train, yWell_test = model_selection.train_test_split(X, yPoor, yWell, train_size=.8)\n",
    "    \n",
    "    poor_fit = linear_model.LinearRegression().fit(X_train, yPoor_train)\n",
    "    well_fit = linear_model.LinearRegression().fit(X_train, yWell_train)\n",
    "    poor_predictions = poor_fit.predict(X_test)\n",
    "    well_predictions = well_fit.predict(X_test)\n",
    "    poor_r2 = metrics.r2_score(yPoor_test, poor_predictions)\n",
    "    well_r2 = metrics.r2_score(yWell_test, well_predictions)\n",
    "    poor_rmse = np.sqrt(metrics.mean_squared_error(yPoor_test, poor_predictions))\n",
    "    well_rmse = np.sqrt(metrics.mean_squared_error(yWell_test, well_predictions))\n",
    "    poor_r2s.append(poor_r2)\n",
    "    poor_rmses.append(poor_rmse)\n",
    "    well_r2s.append(well_r2)\n",
    "    well_rmses.append(well_rmse)"
   ],
   "metadata": {
    "collapsed": false,
    "pycharm": {
     "name": "#%%\n",
     "is_executing": false
    }
   }
  },
  {
   "cell_type": "markdown",
   "source": [
    "### Distribution for poorly explained mRNA expressions"
   ],
   "metadata": {
    "collapsed": false
   }
  },
  {
   "cell_type": "code",
   "execution_count": 62,
   "outputs": [
    {
     "name": "stdout",
     "text": [
      "r^2 Distribution (0.044577511327156, 0.003902051602376278)\nRMSE Distribution (0.46808128471525523, 0.006696587495784886)\n"
     ],
     "output_type": "stream"
    }
   ],
   "source": [
    "poor_r2_mean = np.mean(poor_r2s)\n",
    "poor_r2_std = np.std(poor_r2s)\n",
    "poor_rmse_mean = np.mean(poor_rmses)\n",
    "poor_rmse_std = np.std(poor_rmses)\n",
    "print(f\"r^2 Distribution {poor_r2_mean, poor_r2_std}\")\n",
    "print(f\"RMSE Distribution {poor_rmse_mean, poor_rmse_std}\")"
   ],
   "metadata": {
    "collapsed": false,
    "pycharm": {
     "name": "#%%\n",
     "is_executing": false
    }
   }
  },
  {
   "cell_type": "markdown",
   "source": [
    "### Distribution for well explained mRNA expressions"
   ],
   "metadata": {
    "collapsed": false
   }
  },
  {
   "cell_type": "code",
   "execution_count": 63,
   "outputs": [
    {
     "name": "stdout",
     "text": [
      "r^2 Distribution (0.471751628457444, 0.004424569573488568)\nRMSE Distribution (1.0073183859616741, 0.009794680668305147)\n"
     ],
     "output_type": "stream"
    }
   ],
   "source": [
    "well_r2_mean = np.mean(well_r2s)\n",
    "well_r2_std = np.std(well_r2s)\n",
    "well_rmse_mean = np.mean(well_rmses)\n",
    "well_rmse_std = np.std(well_rmses)\n",
    "print(f\"r^2 Distribution {well_r2_mean, well_r2_std}\")\n",
    "print(f\"RMSE Distribution {well_rmse_mean, well_rmse_std}\")"
   ],
   "metadata": {
    "collapsed": false,
    "pycharm": {
     "name": "#%%\n",
     "is_executing": false
    }
   }
  },
  {
   "cell_type": "markdown",
   "source": [
    "### Categorical data changes to prediction\n",
    "\n",
    "The RMSE slightly decreases and the coefficient of determination slightly increases when the tissue type\n",
    "categorical data is used."
   ],
   "metadata": {
    "collapsed": false,
    "pycharm": {
     "name": "#%% md\n"
    }
   }
  },
  {
   "cell_type": "markdown",
   "source": [
    "# Part 2: Logistic Regression\n"
   ],
   "metadata": {
    "collapsed": false
   }
  },
  {
   "cell_type": "markdown",
   "source": [
    "### Read data\n"
   ],
   "metadata": {
    "collapsed": false
   }
  },
  {
   "cell_type": "code",
   "execution_count": 2,
   "outputs": [],
   "source": [
    "people = pd.read_csv('https://raw.githubusercontent.com/efosler/cse5522data/master/height_vs_weight.csv')"
   ],
   "metadata": {
    "collapsed": false,
    "pycharm": {
     "name": "#%%\n",
     "is_executing": false
    }
   }
  },
  {
   "cell_type": "markdown",
   "source": [
    "### Prep data"
   ],
   "metadata": {
    "collapsed": false,
    "pycharm": {
     "name": "#%% md\n"
    }
   }
  },
  {
   "cell_type": "code",
   "execution_count": 7,
   "outputs": [],
   "source": [
    "height, weight, female, basketball = np.hsplit(people.to_numpy(),4)"
   ],
   "metadata": {
    "collapsed": false,
    "pycharm": {
     "name": "#%%\n",
     "is_executing": false
    }
   }
  },
  {
   "cell_type": "markdown",
   "source": [
    "### Initialize weights, sets and run regression"
   ],
   "metadata": {
    "collapsed": false,
    "pycharm": {
     "name": "#%% md\n"
    }
   }
  },
  {
   "cell_type": "code",
   "execution_count": 22,
   "outputs": [
    {
     "name": "stdout",
     "text": [
      "Weights: [-26.07952947   0.37583469]\nCost: 0.037139259527944606\nAccuracy: 54/80 - 67.5%\n"
     ],
     "output_type": "stream"
    }
   ],
   "source": [
    "def predict(features, weights):\n",
    "    return 1 / (1 + np.exp(-1 * np.multiply(weights[1],features) - weights[0]))\n",
    "\n",
    "def compute_gradient(weights,features,targets):\n",
    "  predictions = predict(features, weights)\n",
    "  errors = targets - predictions\n",
    "  gradient = np.array([-2.0 * np.average(features*errors),-2.0 * np.average(errors)])\n",
    "  \n",
    "  return gradient\n",
    "\n",
    "def compute_weight_update(weights, features, targets, lr):\n",
    "  gradient = compute_gradient(weights, features, targets)\n",
    "  weights = np.subtract(weights, lr * gradient)\n",
    "\n",
    "  return weights\n",
    "\n",
    "def run(w,f,p,lr):\n",
    "  for step in range(10000):\n",
    "    w = compute_weight_update(w,f,p,lr)\n",
    "  return w\n",
    "    \n",
    "def compute_cost(features, targets, weights):\n",
    "    predictions = predict(features, weights)\n",
    "    one_cost = -targets * np.log(predictions)\n",
    "    zero_cost = (1-targets) * np.log(1 - predictions)\n",
    "    return (one_cost + zero_cost).sum() / len(targets)\n",
    "\n",
    "def convert_to_prediction(p):\n",
    "    return 1 if p > .5 else 0\n",
    "\n",
    "l_weights=[.25,.75]\n",
    "learning_rate=0.0001\n",
    "\n",
    "X_train, X_test, y_train, y_test = model_selection.train_test_split(height, basketball, train_size=.8)\n",
    "\n",
    "logistic_weights = run(l_weights,X_train,y_train,learning_rate)\n",
    "print(f\"Weights: {logistic_weights}\")\n",
    "print(f\"Cost: {compute_cost(X_train, y_train, logistic_weights)}\")\n",
    "\n",
    "test_predictions = predict(X_test, logistic_weights) > .5\n",
    "predictions_diff = test_predictions.astype(int) - y_test\n",
    "unique, counts = np.unique(predictions_diff, return_counts=True)\n",
    "diffs = dict(zip(unique, counts))\n",
    "print(f\"Accuracy: {diffs[0]}/{len(predictions_diff)} - {diffs[0]*100/len(predictions_diff)}%\")"
   ],
   "metadata": {
    "collapsed": false,
    "pycharm": {
     "name": "#%%\n",
     "is_executing": false
    }
   }
  },
  {
   "cell_type": "markdown",
   "source": [
    "### Plot"
   ],
   "metadata": {
    "collapsed": false,
    "pycharm": {
     "name": "#%% md\n"
    }
   }
  },
  {
   "cell_type": "code",
   "execution_count": 23,
   "outputs": [
    {
     "data": {
      "text/plain": "<matplotlib.collections.PathCollection at 0x1a253fba10>"
     },
     "metadata": {},
     "output_type": "execute_result",
     "execution_count": 23
    },
    {
     "data": {
      "text/plain": "<Figure size 432x288 with 1 Axes>",
      "image/png": "[encoded data removed]"
     },
     "metadata": {
      "needs_background": "light"
     },
     "output_type": "display_data"
    }
   ],
   "source": [
    "plt.scatter((X_train, X_train), (y_train, predict(X_train, logistic_weights)))"
   ],
   "metadata": {
    "collapsed": false,
    "pycharm": {
     "name": "#%%\n",
     "is_executing": false
    }
   }
  },
  {
   "cell_type": "markdown",
   "source": [
    "### Train using all data"
   ],
   "metadata": {
    "collapsed": false,
    "pycharm": {
     "name": "#%% md\n"
    }
   }
  },
  {
   "cell_type": "code",
   "execution_count": 20,
   "outputs": [
    {
     "traceback": [
      "\u001b[0;31m---------------------------------------------------------------------------\u001b[0m",
      "\u001b[0;31mAxisError\u001b[0m                                 Traceback (most recent call last)",
      "\u001b[0;32m<ipython-input-20-d37233c69cd3>\u001b[0m in \u001b[0;36m<module>\u001b[0;34m\u001b[0m\n\u001b[1;32m      6\u001b[0m \u001b[0mX_train\u001b[0m\u001b[0;34m,\u001b[0m \u001b[0mX_test\u001b[0m\u001b[0;34m,\u001b[0m \u001b[0my_train\u001b[0m\u001b[0;34m,\u001b[0m \u001b[0my_test\u001b[0m \u001b[0;34m=\u001b[0m \u001b[0mmodel_selection\u001b[0m\u001b[0;34m.\u001b[0m\u001b[0mtrain_test_split\u001b[0m\u001b[0;34m(\u001b[0m\u001b[0mX_combined\u001b[0m\u001b[0;34m,\u001b[0m \u001b[0mbasketball\u001b[0m\u001b[0;34m,\u001b[0m \u001b[0mtrain_size\u001b[0m\u001b[0;34m=\u001b[0m\u001b[0;36m.8\u001b[0m\u001b[0;34m)\u001b[0m\u001b[0;34m\u001b[0m\u001b[0;34m\u001b[0m\u001b[0m\n\u001b[1;32m      7\u001b[0m \u001b[0;34m\u001b[0m\u001b[0m\n\u001b[0;32m----> 8\u001b[0;31m \u001b[0mlogistic_weights\u001b[0m \u001b[0;34m=\u001b[0m \u001b[0mrun\u001b[0m\u001b[0;34m(\u001b[0m\u001b[0ml_weights\u001b[0m\u001b[0;34m,\u001b[0m\u001b[0mX_train\u001b[0m\u001b[0;34m,\u001b[0m\u001b[0my_train\u001b[0m\u001b[0;34m,\u001b[0m\u001b[0mlearning_rate\u001b[0m\u001b[0;34m)\u001b[0m\u001b[0;34m\u001b[0m\u001b[0;34m\u001b[0m\u001b[0m\n\u001b[0m\u001b[1;32m      9\u001b[0m \u001b[0mprint\u001b[0m\u001b[0;34m(\u001b[0m\u001b[0;34mf\"Weights: {logistic_weights}\"\u001b[0m\u001b[0;34m)\u001b[0m\u001b[0;34m\u001b[0m\u001b[0;34m\u001b[0m\u001b[0m\n\u001b[1;32m     10\u001b[0m \u001b[0mprint\u001b[0m\u001b[0;34m(\u001b[0m\u001b[0;34mf\"Cost: {compute_cost(X_train, y_train, logistic_weights)}\"\u001b[0m\u001b[0;34m)\u001b[0m\u001b[0;34m\u001b[0m\u001b[0;34m\u001b[0m\u001b[0m\n",
      "\u001b[0;32m<ipython-input-19-45e7b648ddd6>\u001b[0m in \u001b[0;36mrun\u001b[0;34m(w, f, p, lr)\u001b[0m\n\u001b[1;32m     17\u001b[0m \u001b[0;32mdef\u001b[0m \u001b[0mrun\u001b[0m\u001b[0;34m(\u001b[0m\u001b[0mw\u001b[0m\u001b[0;34m,\u001b[0m\u001b[0mf\u001b[0m\u001b[0;34m,\u001b[0m\u001b[0mp\u001b[0m\u001b[0;34m,\u001b[0m\u001b[0mlr\u001b[0m\u001b[0;34m)\u001b[0m\u001b[0;34m:\u001b[0m\u001b[0;34m\u001b[0m\u001b[0;34m\u001b[0m\u001b[0m\n\u001b[1;32m     18\u001b[0m   \u001b[0;32mfor\u001b[0m \u001b[0mstep\u001b[0m \u001b[0;32min\u001b[0m \u001b[0mrange\u001b[0m\u001b[0;34m(\u001b[0m\u001b[0;36m10000\u001b[0m\u001b[0;34m)\u001b[0m\u001b[0;34m:\u001b[0m\u001b[0;34m\u001b[0m\u001b[0;34m\u001b[0m\u001b[0m\n\u001b[0;32m---> 19\u001b[0;31m     \u001b[0mw\u001b[0m \u001b[0;34m=\u001b[0m \u001b[0mcompute_weight_update\u001b[0m\u001b[0;34m(\u001b[0m\u001b[0mw\u001b[0m\u001b[0;34m,\u001b[0m\u001b[0mf\u001b[0m\u001b[0;34m,\u001b[0m\u001b[0mp\u001b[0m\u001b[0;34m,\u001b[0m\u001b[0mlr\u001b[0m\u001b[0;34m)\u001b[0m\u001b[0;34m\u001b[0m\u001b[0;34m\u001b[0m\u001b[0m\n\u001b[0m\u001b[1;32m     20\u001b[0m   \u001b[0;32mreturn\u001b[0m \u001b[0mw\u001b[0m\u001b[0;34m\u001b[0m\u001b[0;34m\u001b[0m\u001b[0m\n\u001b[1;32m     21\u001b[0m \u001b[0;34m\u001b[0m\u001b[0m\n",
      "\u001b[0;32m<ipython-input-19-45e7b648ddd6>\u001b[0m in \u001b[0;36mcompute_weight_update\u001b[0;34m(weights, features, targets, lr)\u001b[0m\n\u001b[1;32m     11\u001b[0m \u001b[0;32mdef\u001b[0m \u001b[0mcompute_weight_update\u001b[0m\u001b[0;34m(\u001b[0m\u001b[0mweights\u001b[0m\u001b[0;34m,\u001b[0m \u001b[0mfeatures\u001b[0m\u001b[0;34m,\u001b[0m \u001b[0mtargets\u001b[0m\u001b[0;34m,\u001b[0m \u001b[0mlr\u001b[0m\u001b[0;34m)\u001b[0m\u001b[0;34m:\u001b[0m\u001b[0;34m\u001b[0m\u001b[0;34m\u001b[0m\u001b[0m\n\u001b[1;32m     12\u001b[0m   \u001b[0mgradient\u001b[0m \u001b[0;34m=\u001b[0m \u001b[0mcompute_gradient\u001b[0m\u001b[0;34m(\u001b[0m\u001b[0mweights\u001b[0m\u001b[0;34m,\u001b[0m \u001b[0mfeatures\u001b[0m\u001b[0;34m,\u001b[0m \u001b[0mtargets\u001b[0m\u001b[0;34m)\u001b[0m\u001b[0;34m\u001b[0m\u001b[0;34m\u001b[0m\u001b[0m\n\u001b[0;32m---> 13\u001b[0;31m   \u001b[0mweights\u001b[0m \u001b[0;34m=\u001b[0m \u001b[0mnp\u001b[0m\u001b[0;34m.\u001b[0m\u001b[0msubtract\u001b[0m\u001b[0;34m(\u001b[0m\u001b[0mweights\u001b[0m\u001b[0;34m,\u001b[0m \u001b[0mnp\u001b[0m\u001b[0;34m.\u001b[0m\u001b[0mrepeat\u001b[0m\u001b[0;34m(\u001b[0m\u001b[0mlr\u001b[0m \u001b[0;34m*\u001b[0m \u001b[0mgradient\u001b[0m\u001b[0;34m,\u001b[0m \u001b[0;36m1\u001b[0m \u001b[0;32mif\u001b[0m \u001b[0mlen\u001b[0m\u001b[0;34m(\u001b[0m\u001b[0mweights\u001b[0m\u001b[0;34m.\u001b[0m\u001b[0mshape\u001b[0m\u001b[0;34m)\u001b[0m \u001b[0;34m<=\u001b[0m \u001b[0;36m1\u001b[0m \u001b[0;32melse\u001b[0m \u001b[0mweights\u001b[0m\u001b[0;34m.\u001b[0m\u001b[0mshape\u001b[0m\u001b[0;34m[\u001b[0m\u001b[0;36m1\u001b[0m\u001b[0;34m]\u001b[0m\u001b[0;34m,\u001b[0m \u001b[0maxis\u001b[0m\u001b[0;34m=\u001b[0m\u001b[0;36m1\u001b[0m\u001b[0;34m)\u001b[0m\u001b[0;34m)\u001b[0m\u001b[0;34m\u001b[0m\u001b[0;34m\u001b[0m\u001b[0m\n\u001b[0m\u001b[1;32m     14\u001b[0m \u001b[0;34m\u001b[0m\u001b[0m\n\u001b[1;32m     15\u001b[0m   \u001b[0;32mreturn\u001b[0m \u001b[0mweights\u001b[0m\u001b[0;34m\u001b[0m\u001b[0;34m\u001b[0m\u001b[0m\n",
      "\u001b[0;32m~/.conda/envs/Lab1/lib/python3.7/site-packages/numpy/core/fromnumeric.py\u001b[0m in \u001b[0;36mrepeat\u001b[0;34m(a, repeats, axis)\u001b[0m\n\u001b[1;32m    469\u001b[0m \u001b[0;34m\u001b[0m\u001b[0m\n\u001b[1;32m    470\u001b[0m     \"\"\"\n\u001b[0;32m--> 471\u001b[0;31m     \u001b[0;32mreturn\u001b[0m \u001b[0m_wrapfunc\u001b[0m\u001b[0;34m(\u001b[0m\u001b[0ma\u001b[0m\u001b[0;34m,\u001b[0m \u001b[0;34m'repeat'\u001b[0m\u001b[0;34m,\u001b[0m \u001b[0mrepeats\u001b[0m\u001b[0;34m,\u001b[0m \u001b[0maxis\u001b[0m\u001b[0;34m=\u001b[0m\u001b[0maxis\u001b[0m\u001b[0;34m)\u001b[0m\u001b[0;34m\u001b[0m\u001b[0;34m\u001b[0m\u001b[0m\n\u001b[0m\u001b[1;32m    472\u001b[0m \u001b[0;34m\u001b[0m\u001b[0m\n\u001b[1;32m    473\u001b[0m \u001b[0;34m\u001b[0m\u001b[0m\n",
      "\u001b[0;32m~/.conda/envs/Lab1/lib/python3.7/site-packages/numpy/core/fromnumeric.py\u001b[0m in \u001b[0;36m_wrapfunc\u001b[0;34m(obj, method, *args, **kwds)\u001b[0m\n\u001b[1;32m     54\u001b[0m \u001b[0;32mdef\u001b[0m \u001b[0m_wrapfunc\u001b[0m\u001b[0;34m(\u001b[0m\u001b[0mobj\u001b[0m\u001b[0;34m,\u001b[0m \u001b[0mmethod\u001b[0m\u001b[0;34m,\u001b[0m \u001b[0;34m*\u001b[0m\u001b[0margs\u001b[0m\u001b[0;34m,\u001b[0m \u001b[0;34m**\u001b[0m\u001b[0mkwds\u001b[0m\u001b[0;34m)\u001b[0m\u001b[0;34m:\u001b[0m\u001b[0;34m\u001b[0m\u001b[0;34m\u001b[0m\u001b[0m\n\u001b[1;32m     55\u001b[0m     \u001b[0;32mtry\u001b[0m\u001b[0;34m:\u001b[0m\u001b[0;34m\u001b[0m\u001b[0;34m\u001b[0m\u001b[0m\n\u001b[0;32m---> 56\u001b[0;31m         \u001b[0;32mreturn\u001b[0m \u001b[0mgetattr\u001b[0m\u001b[0;34m(\u001b[0m\u001b[0mobj\u001b[0m\u001b[0;34m,\u001b[0m \u001b[0mmethod\u001b[0m\u001b[0;34m)\u001b[0m\u001b[0;34m(\u001b[0m\u001b[0;34m*\u001b[0m\u001b[0margs\u001b[0m\u001b[0;34m,\u001b[0m \u001b[0;34m**\u001b[0m\u001b[0mkwds\u001b[0m\u001b[0;34m)\u001b[0m\u001b[0;34m\u001b[0m\u001b[0;34m\u001b[0m\u001b[0m\n\u001b[0m\u001b[1;32m     57\u001b[0m \u001b[0;34m\u001b[0m\u001b[0m\n\u001b[1;32m     58\u001b[0m     \u001b[0;31m# An AttributeError occurs if the object does not have\u001b[0m\u001b[0;34m\u001b[0m\u001b[0;34m\u001b[0m\u001b[0;34m\u001b[0m\u001b[0m\n",
      "\u001b[0;31mAxisError\u001b[0m: axis 1 is out of bounds for array of dimension 1"
     ],
     "ename": "AxisError",
     "evalue": "axis 1 is out of bounds for array of dimension 1",
     "output_type": "error"
    }
   ],
   "source": [
    "l_weights=[(.25,.25,.25),(.75,.75,.75)]\n",
    "learning_rate=0.0001\n",
    "\n",
    "X_combined = np.concatenate((height, weight, female), 1)\n",
    "\n",
    "X_train, X_test, y_train, y_test = model_selection.train_test_split(X_combined, basketball, train_size=.8)\n",
    "\n",
    "logistic_weights = run(l_weights,X_train,y_train,learning_rate)\n",
    "print(f\"Weights: {logistic_weights}\")\n",
    "print(f\"Cost: {compute_cost(X_train, y_train, logistic_weights)}\")\n",
    "\n",
    "test_predictions = predict(X_test, logistic_weights) > .5\n",
    "predictions_diff = test_predictions.astype(int) - y_test\n",
    "unique, counts = np.unique(predictions_diff, return_counts=True)\n",
    "diffs = dict(zip(unique, counts))\n",
    "print(f\"Accuracy: {diffs[0]}/{len(predictions_diff)} - {diffs[0]*100/len(predictions_diff)}%\")"
   ],
   "metadata": {
    "collapsed": false,
    "pycharm": {
     "name": "#%%\n",
     "is_executing": false
    }
   }
  }
 ],
 "metadata": {
  "language_info": {
   "codemirror_mode": {
    "name": "ipython",
    "version": 2
   },
   "file_extension": ".py",
   "mimetype": "text/x-python",
   "name": "python",
   "nbconvert_exporter": "python",
   "pygments_lexer": "ipython2",
   "version": "2.7.6"
  },
  "kernelspec": {
   "name": "python3",
   "language": "python",
   "display_name": "Python 3"
  },
  "pycharm": {
   "stem_cell": {
    "cell_type": "raw",
    "source": [],
    "metadata": {
     "collapsed": false
    }
   }
  }
 },
 "nbformat": 4,
 "nbformat_minor": 0
}